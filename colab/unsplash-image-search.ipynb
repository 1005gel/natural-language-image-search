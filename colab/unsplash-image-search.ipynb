{
  "nbformat": 4,
  "nbformat_minor": 0,
  "metadata": {
    "colab": {
      "name": "unsplash-image-search.ipynb",
      "provenance": [],
      "collapsed_sections": [
        "Ons94QRxCQR2",
        "lJVrkmy6DVj2",
        "ujCKerTnFBk4"
      ]
    },
    "kernelspec": {
      "name": "python3",
      "display_name": "Python 3"
    }
  },
  "cells": [
    {
      "cell_type": "markdown",
      "metadata": {
        "id": "97qkK30wAzXb"
      },
      "source": [
        "# Unsplash Image Search\n",
        "\n",
        "Using this notebook you can search images from the [Full Unsplash Dataset](https://unsplash.com/data) using natural text descriptions. The search is powered by [OpenAI's CLIP neural network](https://github.com/openai/CLIP).\n",
        "\n",
        "This notebook uses the precomputed feature vectors for almost 2 million images from the Unsplash dataset. If you want to compute the features yourself, take a look at my other notebook.\n",
        "\n",
        "This project was created by [Vladimir Haltakov](https://twitter.com/haltakov) and the full code is open-source on [GitHub](https://github.com/haltakov/unsplash-image-search)."
      ]
    },
    {
      "cell_type": "markdown",
      "metadata": {
        "id": "Ons94QRxCQR2"
      },
      "source": [
        "## Setup Environment\n",
        "\n",
        "In this section we will setup the environment."
      ]
    },
    {
      "cell_type": "markdown",
      "metadata": {
        "id": "DYdIafWsOOUV"
      },
      "source": [
        "First we need to install some dependencies of CLIP that are not preinstalled in Colab."
      ]
    },
    {
      "cell_type": "code",
      "metadata": {
        "id": "djgE7IjbV3sv"
      },
      "source": [
        "!pip install ftfy==5.8"
      ],
      "execution_count": null,
      "outputs": []
    },
    {
      "cell_type": "markdown",
      "metadata": {
        "id": "NEyyNWsECnsp"
      },
      "source": [
        "Now we need to checkout the code of the CLIP model from OpenAI's GutHib repository and move the required files in the root folder, so we can import them."
      ]
    },
    {
      "cell_type": "code",
      "metadata": {
        "id": "0bTUi0JzW1IC"
      },
      "source": [
        "# Clone to code from the CLIP repository\n",
        "!git clone https://github.com/openai/CLIP.git\n",
        "\n",
        "# Move the Python files and the vocabulary archive\n",
        "!mv CLIP/*.py .\n",
        "!mv CLIP/*.gz ."
      ],
      "execution_count": null,
      "outputs": []
    },
    {
      "cell_type": "markdown",
      "metadata": {
        "id": "B7_Sk-T7DBEm"
      },
      "source": [
        "We need to load the pretrained public CLIP model"
      ]
    },
    {
      "cell_type": "code",
      "metadata": {
        "id": "_6FzbzS6W1R5"
      },
      "source": [
        "import clip\n",
        "import torch\n",
        "\n",
        "# Load the open CLIP model\n",
        "device = \"cuda\" if torch.cuda.is_available() else \"cpu\"\n",
        "model, preprocess = clip.load(\"ViT-B/32\", device=device)"
      ],
      "execution_count": null,
      "outputs": []
    },
    {
      "cell_type": "markdown",
      "metadata": {
        "id": "lJVrkmy6DVj2"
      },
      "source": [
        "## Download the Precomputed Data\n",
        "\n",
        "In this section the precomputed feature vectors for all photos are downloaded."
      ]
    },
    {
      "cell_type": "markdown",
      "metadata": {
        "id": "18alAEjEOdSC"
      },
      "source": [
        "In order to compare the photos from the Unsplash dataset to a text query, we need to compute the feature vector of each photo using CLIP. This is a time consuming task, so you can use the feature vectors that I precomputed and uploaded to Google Drive (with the permission from Unsplash).\n",
        "\n",
        "If you want to compute the features yourself, take a look at my other notebook.\n",
        "\n",
        "We need to download two files:\n",
        "* `photo_ids.csv` - a list with the photo IDs for all images in the dataset. The photo ID can be used to get the actual photo from Unsplash.\n",
        "* `features.npy` - a matrix containing the precomputed 512 element feature vector for each photo in the dataset."
      ]
    },
    {
      "cell_type": "code",
      "metadata": {
        "id": "BAb15OJQZRkt"
      },
      "source": [
        "# Create a folder for the precomputed features\n",
        "!mkdir unsplash-dataset\n",
        "\n",
        "# Download the photo IDs and the feature vectors\n",
        "!gdown --id 1FdmDEzBQCf3OxqY9SbU-jLfH_yZ6UPSj -O unsplash-dataset/photo_ids.csv\n",
        "!gdown --id 1L7ulhn4VeN-2aOM-fYmljza_TQok-j9F -O unsplash-dataset/features.npy"
      ],
      "execution_count": null,
      "outputs": []
    },
    {
      "cell_type": "markdown",
      "metadata": {
        "id": "TVjuUh6oEtPt"
      },
      "source": [
        "After the files are downloaded we need to load them using `pandas` and `numpy`."
      ]
    },
    {
      "cell_type": "code",
      "metadata": {
        "id": "GQHcmMo1Ztjz"
      },
      "source": [
        "import pandas as pd\n",
        "import numpy as np\n",
        "\n",
        "# Load the photo IDs\n",
        "photo_ids = pd.read_csv(\"unsplash-dataset/photo_ids.csv\")\n",
        "photo_ids = list(photo_ids['photo_id'])\n",
        "\n",
        "# Load the features vectors\n",
        "photo_features = np.load(\"unsplash-dataset/features.npy\")\n",
        "\n",
        "# Print some statistics\n",
        "print(f\"Photos loaded: {len(photo_ids)}\")"
      ],
      "execution_count": null,
      "outputs": []
    },
    {
      "cell_type": "markdown",
      "metadata": {
        "id": "ujCKerTnFBk4"
      },
      "source": [
        "## Define Functions\n",
        "\n",
        "Here, some important functions for processing the data are defined.\n",
        "\n"
      ]
    },
    {
      "cell_type": "markdown",
      "metadata": {
        "id": "pYVNtF-JFtfj"
      },
      "source": [
        "The `encode_search_query` function takes a text description and encodes it into a feature vector using the CLIP model."
      ]
    },
    {
      "cell_type": "code",
      "metadata": {
        "id": "d0hmOh3qbcxK"
      },
      "source": [
        "def encode_search_query(search_query):\n",
        "  with torch.no_grad():\n",
        "    # Encode and normalize the search query using CLIP\n",
        "    text_encoded = model.encode_text(clip.tokenize(search_query).to(device))\n",
        "    text_encoded /= text_encoded.norm(dim=-1, keepdim=True)\n",
        "\n",
        "  # Retrieve the feature vector from the GPU and convert it to a numpy array\n",
        "  return text_encoded.cpu().numpy()"
      ],
      "execution_count": 11,
      "outputs": []
    },
    {
      "cell_type": "markdown",
      "metadata": {
        "id": "Vh1yyJtEGCAX"
      },
      "source": [
        "The `find_best_matches` function compares the text feature vector to the feature vectors of all images and finds the best matches. The function returns the IDs of the best matching photos."
      ]
    },
    {
      "cell_type": "code",
      "metadata": {
        "id": "3TcmI5KIbe5F"
      },
      "source": [
        "def find_best_matches(text_features, photo_features, photo_ids, results_count=3):\n",
        "  # Compute the similarity between the search query and each photo using the Cosine similarity\n",
        "  similarities = list((text_features @ photo_features.T).squeeze(0))\n",
        "\n",
        "  # Sort the photos by their similarity score and attach the photo ID to the score\n",
        "  best_photos = sorted(zip(similarities, photo_ids), key=lambda x: x[0], reverse=True)\n",
        "\n",
        "  # Return the photo IDs of the best matches\n",
        "  return [best_photos[i][1] for i in range(results_count)]"
      ],
      "execution_count": 12,
      "outputs": []
    },
    {
      "cell_type": "markdown",
      "metadata": {
        "id": "gEmt0F4iHbL0"
      },
      "source": [
        "The `display_photo` function displays a photo from Unsplash given its ID. \n",
        "\n",
        "This function needs to call the Unsplash API to get the URL of the photo and some metadata about the photographer. Since I'm [not allowed](https://help.unsplash.com/en/articles/2511245-unsplash-api-guidelines) to share my Unsplash API access key publicly, I created a small proxy that queries the Unsplash API and returns the data (see the code [here](https://github.com/haltakov/unsplash-image-search/tree/main/unsplash-proxy)). In this way you can play around without creating a developer account at Unsplash, while keeping my key private. I hope I don't hit the API rate limit.\n",
        "\n",
        "If you already have an Unsplash developer account, you can uncomment the relevant code and plugin your own access key."
      ]
    },
    {
      "cell_type": "code",
      "metadata": {
        "id": "RC4HD8cBYOon"
      },
      "source": [
        "from IPython.display import Image\n",
        "from IPython.core.display import HTML\n",
        "from urllib.request import urlopen\n",
        "import json\n",
        "\n",
        "def display_photo(photo_id):\n",
        "  # Proxy for the Unsplash API so that I don't expose my access key\n",
        "  unsplash_api_url = f\"https://haltakov.net/unsplash-proxy/{photo_id}\"\n",
        "  \n",
        "  # Alternatively, you can use your own Unsplash developer account with this code\n",
        "  # unsplash_api_url = f\"https://api.unsplash.com/photos/{photo_id}?client_id=YOUR_UNSPLASH_ACCESS_KEY\"\n",
        "  \n",
        "  # Fetch the photo metadata from the Unsplash API\n",
        "  photo_data = json.loads(urlopen(unsplash_api_url).read().decode(\"utf-8\"))\n",
        "\n",
        "  # Get the URL of the photo resized to have a width of 480px\n",
        "  photo_image_url = photo_data[\"urls\"][\"raw\"] + \"&w=320\"\n",
        "\n",
        "  # Display the photo\n",
        "  display(Image(url=photo_image_url))\n",
        "\n",
        "  # Display the attribution text\n",
        "  display(HTML(f'Photo by <a target=\"_blank\" href=\"https://unsplash.com/@{photo_data[\"user\"][\"username\"]}?utm_source=ml_image_search&utm_medium=referral\">{photo_data[\"user\"][\"name\"]}</a> on <a target=\"_blank\" href=\"https://unsplash.com/?utm_source=ml_image_search&utm_medium=referral\">Unsplash</a>'))\n",
        "  print()"
      ],
      "execution_count": 27,
      "outputs": []
    },
    {
      "cell_type": "markdown",
      "metadata": {
        "id": "_3ojinZ0JYBC"
      },
      "source": [
        "Putting it all together in one function."
      ]
    },
    {
      "cell_type": "code",
      "metadata": {
        "id": "LvUcljF5JcRn"
      },
      "source": [
        "def search_unslash(search_query, photo_features, photo_ids, results_count=3):\n",
        "  # Encode the search query\n",
        "  text_features = encode_search_query(search_query)\n",
        "\n",
        "  # Find the best matches\n",
        "  best_photo_ids = find_best_matches(text_features, photo_features, photo_ids, results_count)\n",
        "\n",
        "  # Display the best photos\n",
        "  for photo_id in best_photo_ids:\n",
        "    display_photo(photo_id)\n"
      ],
      "execution_count": 28,
      "outputs": []
    },
    {
      "cell_type": "markdown",
      "metadata": {
        "id": "xbym_cYJJH6v"
      },
      "source": [
        "## Search Unsplash\n",
        "\n",
        "Now we are ready to search the dataset using natural language. Check out the examples below and feel free to try out different queries."
      ]
    },
    {
      "cell_type": "markdown",
      "metadata": {
        "id": "-RmOFAq5NtlI"
      },
      "source": [
        "### \"Two dogs playing in the snow\""
      ]
    },
    {
      "cell_type": "code",
      "metadata": {
        "colab": {
          "base_uri": "https://localhost:8080/",
          "height": 776
        },
        "id": "CF7HuxAlFNXT",
        "outputId": "eaae785b-696b-4298-dca0-999c195769b1"
      },
      "source": [
        "search_query = \"Two dogs playing in the snow\"\n",
        "\n",
        "search_unslash(search_query, photo_features, photo_ids, 3)"
      ],
      "execution_count": 34,
      "outputs": [
        {
          "output_type": "display_data",
          "data": {
            "text/html": [
              "<img src=\"https://images.unsplash.com/photo-1583000058351-c6938bc10e22?ixid=MXwxOTkwNTV8MHwxfGFsbHx8fHx8fHx8&ixlib=rb-1.2.1&w=320\"/>"
            ],
            "text/plain": [
              "<IPython.core.display.Image object>"
            ]
          },
          "metadata": {
            "tags": []
          }
        },
        {
          "output_type": "display_data",
          "data": {
            "text/html": [
              "Photo by <a target=\"_blank\" href=\"https://unsplash.com/@richardworks?utm_source=ml_image_search&utm_medium=referral\">Richard Burlton</a> on <a target=\"_blank\" href=\"https://unsplash.com/?utm_source=ml_image_search&utm_medium=referral\">Unsplash</a>"
            ],
            "text/plain": [
              "<IPython.core.display.HTML object>"
            ]
          },
          "metadata": {
            "tags": []
          }
        },
        {
          "output_type": "stream",
          "text": [
            "\n"
          ],
          "name": "stdout"
        },
        {
          "output_type": "display_data",
          "data": {
            "text/html": [
              "<img src=\"https://images.unsplash.com/photo-1541876176131-3f5e84a7331a?ixid=MXwxOTkwNTV8MHwxfGFsbHx8fHx8fHx8&ixlib=rb-1.2.1&w=320\"/>"
            ],
            "text/plain": [
              "<IPython.core.display.Image object>"
            ]
          },
          "metadata": {
            "tags": []
          }
        },
        {
          "output_type": "display_data",
          "data": {
            "text/html": [
              "Photo by <a target=\"_blank\" href=\"https://unsplash.com/@karlkiwi90?utm_source=ml_image_search&utm_medium=referral\">Karl Anderson</a> on <a target=\"_blank\" href=\"https://unsplash.com/?utm_source=ml_image_search&utm_medium=referral\">Unsplash</a>"
            ],
            "text/plain": [
              "<IPython.core.display.HTML object>"
            ]
          },
          "metadata": {
            "tags": []
          }
        },
        {
          "output_type": "stream",
          "text": [
            "\n"
          ],
          "name": "stdout"
        },
        {
          "output_type": "display_data",
          "data": {
            "text/html": [
              "<img src=\"https://images.unsplash.com/photo-1491152237644-52bce1b55d40?ixid=MXwxOTkwNTV8MHwxfGFsbHx8fHx8fHx8&ixlib=rb-1.2.1&w=320\"/>"
            ],
            "text/plain": [
              "<IPython.core.display.Image object>"
            ]
          },
          "metadata": {
            "tags": []
          }
        },
        {
          "output_type": "display_data",
          "data": {
            "text/html": [
              "Photo by <a target=\"_blank\" href=\"https://unsplash.com/@samaritan_?utm_source=ml_image_search&utm_medium=referral\">Xuecheng Chen</a> on <a target=\"_blank\" href=\"https://unsplash.com/?utm_source=ml_image_search&utm_medium=referral\">Unsplash</a>"
            ],
            "text/plain": [
              "<IPython.core.display.HTML object>"
            ]
          },
          "metadata": {
            "tags": []
          }
        },
        {
          "output_type": "stream",
          "text": [
            "\n"
          ],
          "name": "stdout"
        }
      ]
    },
    {
      "cell_type": "markdown",
      "metadata": {
        "id": "PtaYocbjN0VQ"
      },
      "source": [
        "### \"The word love written on the wall\""
      ]
    },
    {
      "cell_type": "code",
      "metadata": {
        "colab": {
          "base_uri": "https://localhost:8080/",
          "height": 743
        },
        "id": "OswqrzaeMy1J",
        "outputId": "9d51356c-18d7-4105-fc00-3af1a1d5eef2"
      },
      "source": [
        "search_query = \"The word love written on the wall\"\n",
        "\n",
        "search_unslash(search_query, photo_features, photo_ids, 3)"
      ],
      "execution_count": 30,
      "outputs": [
        {
          "output_type": "display_data",
          "data": {
            "text/html": [
              "<img src=\"https://images.unsplash.com/photo-1528037867495-ba242dd56ba5?ixid=MXwxOTkwNTV8MHwxfGFsbHx8fHx8fHx8&ixlib=rb-1.2.1&w=320\"/>"
            ],
            "text/plain": [
              "<IPython.core.display.Image object>"
            ]
          },
          "metadata": {
            "tags": []
          }
        },
        {
          "output_type": "display_data",
          "data": {
            "text/html": [
              "Photo by <a target=\"_blank\" href=\"https://unsplash.com/@damiangenton96?utm_source=ml_image_search&utm_medium=referral\">Genton Damian</a> on <a target=\"_blank\" href=\"https://unsplash.com/?utm_source=ml_image_search&utm_medium=referral\">Unsplash</a>"
            ],
            "text/plain": [
              "<IPython.core.display.HTML object>"
            ]
          },
          "metadata": {
            "tags": []
          }
        },
        {
          "output_type": "stream",
          "text": [
            "\n"
          ],
          "name": "stdout"
        },
        {
          "output_type": "display_data",
          "data": {
            "text/html": [
              "<img src=\"https://images.unsplash.com/photo-1584285141681-76a0d45c044f?ixid=MXwxOTkwNTV8MHwxfGFsbHx8fHx8fHx8&ixlib=rb-1.2.1&w=320\"/>"
            ],
            "text/plain": [
              "<IPython.core.display.Image object>"
            ]
          },
          "metadata": {
            "tags": []
          }
        },
        {
          "output_type": "display_data",
          "data": {
            "text/html": [
              "Photo by <a target=\"_blank\" href=\"https://unsplash.com/@arozwadowska?utm_source=ml_image_search&utm_medium=referral\">Anna Rozwadowska</a> on <a target=\"_blank\" href=\"https://unsplash.com/?utm_source=ml_image_search&utm_medium=referral\">Unsplash</a>"
            ],
            "text/plain": [
              "<IPython.core.display.HTML object>"
            ]
          },
          "metadata": {
            "tags": []
          }
        },
        {
          "output_type": "stream",
          "text": [
            "\n"
          ],
          "name": "stdout"
        },
        {
          "output_type": "display_data",
          "data": {
            "text/html": [
              "<img src=\"https://images.unsplash.com/photo-1589826000382-42984f7f523d?ixid=MXwxOTkwNTV8MHwxfGFsbHx8fHx8fHx8&ixlib=rb-1.2.1&w=320\"/>"
            ],
            "text/plain": [
              "<IPython.core.display.Image object>"
            ]
          },
          "metadata": {
            "tags": []
          }
        },
        {
          "output_type": "display_data",
          "data": {
            "text/html": [
              "Photo by <a target=\"_blank\" href=\"https://unsplash.com/@judebeck?utm_source=ml_image_search&utm_medium=referral\">Jude Beck</a> on <a target=\"_blank\" href=\"https://unsplash.com/?utm_source=ml_image_search&utm_medium=referral\">Unsplash</a>"
            ],
            "text/plain": [
              "<IPython.core.display.HTML object>"
            ]
          },
          "metadata": {
            "tags": []
          }
        },
        {
          "output_type": "stream",
          "text": [
            "\n"
          ],
          "name": "stdout"
        }
      ]
    },
    {
      "cell_type": "markdown",
      "metadata": {
        "id": "sUdySrczN4ZX"
      },
      "source": [
        "### \"The feeling when your program finally works\""
      ]
    },
    {
      "cell_type": "code",
      "metadata": {
        "colab": {
          "base_uri": "https://localhost:8080/",
          "height": 839
        },
        "id": "SRyCZMHQMzOP",
        "outputId": "fbaa02f3-91d4-4edd-8cbe-c8d6816d46e8"
      },
      "source": [
        "search_query = \"The feeling when your program finally works\"\n",
        "\n",
        "search_unslash(search_query, photo_features, photo_ids, 3)"
      ],
      "execution_count": 31,
      "outputs": [
        {
          "output_type": "display_data",
          "data": {
            "text/html": [
              "<img src=\"https://images.unsplash.com/photo-1533227268428-f9ed0900fb3b?ixid=MXwxOTkwNTV8MHwxfGFsbHx8fHx8fHx8&ixlib=rb-1.2.1&w=320\"/>"
            ],
            "text/plain": [
              "<IPython.core.display.Image object>"
            ]
          },
          "metadata": {
            "tags": []
          }
        },
        {
          "output_type": "display_data",
          "data": {
            "text/html": [
              "Photo by <a target=\"_blank\" href=\"https://unsplash.com/@brucemars?utm_source=ml_image_search&utm_medium=referral\">bruce mars</a> on <a target=\"_blank\" href=\"https://unsplash.com/?utm_source=ml_image_search&utm_medium=referral\">Unsplash</a>"
            ],
            "text/plain": [
              "<IPython.core.display.HTML object>"
            ]
          },
          "metadata": {
            "tags": []
          }
        },
        {
          "output_type": "stream",
          "text": [
            "\n"
          ],
          "name": "stdout"
        },
        {
          "output_type": "display_data",
          "data": {
            "text/html": [
              "<img src=\"https://images.unsplash.com/photo-1580810012067-bf854f9cbe93?ixid=MXwxOTkwNTV8MHwxfGFsbHx8fHx8fHx8&ixlib=rb-1.2.1&w=320\"/>"
            ],
            "text/plain": [
              "<IPython.core.display.Image object>"
            ]
          },
          "metadata": {
            "tags": []
          }
        },
        {
          "output_type": "display_data",
          "data": {
            "text/html": [
              "Photo by <a target=\"_blank\" href=\"https://unsplash.com/@lgnwvr?utm_source=ml_image_search&utm_medium=referral\">LOGAN WEAVER</a> on <a target=\"_blank\" href=\"https://unsplash.com/?utm_source=ml_image_search&utm_medium=referral\">Unsplash</a>"
            ],
            "text/plain": [
              "<IPython.core.display.HTML object>"
            ]
          },
          "metadata": {
            "tags": []
          }
        },
        {
          "output_type": "stream",
          "text": [
            "\n"
          ],
          "name": "stdout"
        },
        {
          "output_type": "display_data",
          "data": {
            "text/html": [
              "<img src=\"https://images.unsplash.com/photo-1509562967675-f7caeb234d48?ixid=MXwxOTkwNTV8MHwxfGFsbHx8fHx8fHx8&ixlib=rb-1.2.1&w=320\"/>"
            ],
            "text/plain": [
              "<IPython.core.display.Image object>"
            ]
          },
          "metadata": {
            "tags": []
          }
        },
        {
          "output_type": "display_data",
          "data": {
            "text/html": [
              "Photo by <a target=\"_blank\" href=\"https://unsplash.com/@vskvsk1?utm_source=ml_image_search&utm_medium=referral\">Vasyl Skunziak</a> on <a target=\"_blank\" href=\"https://unsplash.com/?utm_source=ml_image_search&utm_medium=referral\">Unsplash</a>"
            ],
            "text/plain": [
              "<IPython.core.display.HTML object>"
            ]
          },
          "metadata": {
            "tags": []
          }
        },
        {
          "output_type": "stream",
          "text": [
            "\n"
          ],
          "name": "stdout"
        }
      ]
    },
    {
      "cell_type": "markdown",
      "metadata": {
        "id": "aR4aDfQYN8J1"
      },
      "source": [
        "### \"The Syndey Opera House and the Harbour Bridge at night\""
      ]
    },
    {
      "cell_type": "code",
      "metadata": {
        "colab": {
          "base_uri": "https://localhost:8080/",
          "height": 720
        },
        "id": "wWkWfHhnMzZe",
        "outputId": "35ee337d-ab4e-450e-e616-b0e7dc6dcead"
      },
      "source": [
        "search_query = \"The Syndey Opera House and the Harbour Bridge at night\"\n",
        "\n",
        "search_unslash(search_query, photo_features, photo_ids, 3)"
      ],
      "execution_count": 32,
      "outputs": [
        {
          "output_type": "display_data",
          "data": {
            "text/html": [
              "<img src=\"https://images.unsplash.com/photo-1524389054500-26845af32b1e?ixid=MXwxOTkwNTV8MHwxfGFsbHx8fHx8fHx8&ixlib=rb-1.2.1&w=320\"/>"
            ],
            "text/plain": [
              "<IPython.core.display.Image object>"
            ]
          },
          "metadata": {
            "tags": []
          }
        },
        {
          "output_type": "display_data",
          "data": {
            "text/html": [
              "Photo by <a target=\"_blank\" href=\"https://unsplash.com/@dilson?utm_source=ml_image_search&utm_medium=referral\">Dalal Nizam</a> on <a target=\"_blank\" href=\"https://unsplash.com/?utm_source=ml_image_search&utm_medium=referral\">Unsplash</a>"
            ],
            "text/plain": [
              "<IPython.core.display.HTML object>"
            ]
          },
          "metadata": {
            "tags": []
          }
        },
        {
          "output_type": "stream",
          "text": [
            "\n"
          ],
          "name": "stdout"
        },
        {
          "output_type": "display_data",
          "data": {
            "text/html": [
              "<img src=\"https://images.unsplash.com/photo-1524387971136-0329ee358d44?ixid=MXwxOTkwNTV8MHwxfGFsbHx8fHx8fHx8&ixlib=rb-1.2.1&w=320\"/>"
            ],
            "text/plain": [
              "<IPython.core.display.Image object>"
            ]
          },
          "metadata": {
            "tags": []
          }
        },
        {
          "output_type": "display_data",
          "data": {
            "text/html": [
              "Photo by <a target=\"_blank\" href=\"https://unsplash.com/@dilson?utm_source=ml_image_search&utm_medium=referral\">Dalal Nizam</a> on <a target=\"_blank\" href=\"https://unsplash.com/?utm_source=ml_image_search&utm_medium=referral\">Unsplash</a>"
            ],
            "text/plain": [
              "<IPython.core.display.HTML object>"
            ]
          },
          "metadata": {
            "tags": []
          }
        },
        {
          "output_type": "stream",
          "text": [
            "\n"
          ],
          "name": "stdout"
        },
        {
          "output_type": "display_data",
          "data": {
            "text/html": [
              "<img src=\"https://images.unsplash.com/photo-1553899017-4ff76981a06e?ixid=MXwxOTkwNTV8MHwxfGFsbHx8fHx8fHx8&ixlib=rb-1.2.1&w=320\"/>"
            ],
            "text/plain": [
              "<IPython.core.display.Image object>"
            ]
          },
          "metadata": {
            "tags": []
          }
        },
        {
          "output_type": "display_data",
          "data": {
            "text/html": [
              "Photo by <a target=\"_blank\" href=\"https://unsplash.com/@annatre?utm_source=ml_image_search&utm_medium=referral\">Anna Tremewan</a> on <a target=\"_blank\" href=\"https://unsplash.com/?utm_source=ml_image_search&utm_medium=referral\">Unsplash</a>"
            ],
            "text/plain": [
              "<IPython.core.display.HTML object>"
            ]
          },
          "metadata": {
            "tags": []
          }
        },
        {
          "output_type": "stream",
          "text": [
            "\n"
          ],
          "name": "stdout"
        }
      ]
    }
  ]
}